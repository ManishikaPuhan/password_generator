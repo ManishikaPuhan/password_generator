{
 "cells": [
  {
   "cell_type": "code",
   "execution_count": 1,
   "id": "62119363-f576-4e99-a5ee-636e3a96bf73",
   "metadata": {},
   "outputs": [],
   "source": [
    "import tkinter as tk\n",
    "import random\n",
    "import string\n",
    "\n",
    "def generate_password(length, use_digits, use_symbols):\n",
    "    characters = string.ascii_letters\n",
    "    if use_digits:\n",
    "        characters += string.digits\n",
    "    if use_symbols:\n",
    "        characters += string.punctuation\n",
    "    \n",
    "    password = ''.join(random.choice(characters) for _ in range(length))\n",
    "    return password\n",
    "\n",
    "def generate():\n",
    "    length = int(length_entry.get())\n",
    "    use_digits = digit_var.get()\n",
    "    use_symbols = symbol_var.get()\n",
    "    \n",
    "    password = generate_password(length, use_digits, use_symbols)\n",
    "    result_label.config(text=f\"Generated Password: {password}\")\n",
    "\n",
    "# GUI Setup\n",
    "app = tk.Tk()\n",
    "app.title(\"Password Generator\")\n",
    "\n",
    "tk.Label(app, text=\"Password Length:\").grid(row=0, column=0)\n",
    "length_entry = tk.Entry(app)\n",
    "length_entry.grid(row=0, column=1)\n",
    "\n",
    "digit_var = tk.BooleanVar()\n",
    "tk.Checkbutton(app, text=\"Include Digits\", variable=digit_var).grid(row=1, columnspan=2)\n",
    "\n",
    "symbol_var = tk.BooleanVar()\n",
    "tk.Checkbutton(app, text=\"Include Symbols\", variable=symbol_var).grid(row=2, columnspan=2)\n",
    "\n",
    "generate_button = tk.Button(app, text=\"Generate Password\", command=generate)\n",
    "generate_button.grid(row=3, columnspan=2)\n",
    "\n",
    "result_label = tk.Label(app, text=\"\")\n",
    "result_label.grid(row=4, columnspan=2)\n",
    "\n",
    "app.mainloop()\n"
   ]
  },
  {
   "cell_type": "code",
   "execution_count": null,
   "id": "90878f17-26ec-4f33-b8ea-efcbedc45b2a",
   "metadata": {},
   "outputs": [],
   "source": []
  }
 ],
 "metadata": {
  "kernelspec": {
   "display_name": "Python 3 (ipykernel)",
   "language": "python",
   "name": "python3"
  },
  "language_info": {
   "codemirror_mode": {
    "name": "ipython",
    "version": 3
   },
   "file_extension": ".py",
   "mimetype": "text/x-python",
   "name": "python",
   "nbconvert_exporter": "python",
   "pygments_lexer": "ipython3",
   "version": "3.12.4"
  }
 },
 "nbformat": 4,
 "nbformat_minor": 5
}
